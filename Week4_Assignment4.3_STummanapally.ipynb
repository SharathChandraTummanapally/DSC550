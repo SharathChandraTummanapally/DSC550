{
 "cells": [
  {
   "cell_type": "markdown",
   "id": "1d27330c",
   "metadata": {},
   "source": [
    "Load the data as a Pandas data frame and ensure that it imported correctly."
   ]
  },
  {
   "cell_type": "code",
   "execution_count": 31,
   "id": "b257c067",
   "metadata": {},
   "outputs": [],
   "source": [
    "import pandas as pd\n",
    "import matplotlib.pyplot as plt\n",
    "import seaborn as sb\n",
    "import numpy as np\n",
    "from scipy.stats import norm\n",
    "from scipy import stats\n",
    "import warnings\n",
    "warnings.filterwarnings('ignore')"
   ]
  },
  {
   "cell_type": "code",
   "execution_count": 10,
   "id": "03d429b9",
   "metadata": {},
   "outputs": [
    {
     "data": {
      "text/html": [
       "<div>\n",
       "<style scoped>\n",
       "    .dataframe tbody tr th:only-of-type {\n",
       "        vertical-align: middle;\n",
       "    }\n",
       "\n",
       "    .dataframe tbody tr th {\n",
       "        vertical-align: top;\n",
       "    }\n",
       "\n",
       "    .dataframe thead th {\n",
       "        text-align: right;\n",
       "    }\n",
       "</style>\n",
       "<table border=\"1\" class=\"dataframe\">\n",
       "  <thead>\n",
       "    <tr style=\"text-align: right;\">\n",
       "      <th></th>\n",
       "      <th>mpg</th>\n",
       "      <th>cylinders</th>\n",
       "      <th>displacement</th>\n",
       "      <th>horsepower</th>\n",
       "      <th>weight</th>\n",
       "      <th>acceleration</th>\n",
       "      <th>model year</th>\n",
       "      <th>origin</th>\n",
       "      <th>car name</th>\n",
       "    </tr>\n",
       "  </thead>\n",
       "  <tbody>\n",
       "    <tr>\n",
       "      <th>0</th>\n",
       "      <td>18.0</td>\n",
       "      <td>8</td>\n",
       "      <td>307.0</td>\n",
       "      <td>130</td>\n",
       "      <td>3504</td>\n",
       "      <td>12.0</td>\n",
       "      <td>70</td>\n",
       "      <td>1</td>\n",
       "      <td>chevrolet chevelle malibu</td>\n",
       "    </tr>\n",
       "    <tr>\n",
       "      <th>1</th>\n",
       "      <td>15.0</td>\n",
       "      <td>8</td>\n",
       "      <td>350.0</td>\n",
       "      <td>165</td>\n",
       "      <td>3693</td>\n",
       "      <td>11.5</td>\n",
       "      <td>70</td>\n",
       "      <td>1</td>\n",
       "      <td>buick skylark 320</td>\n",
       "    </tr>\n",
       "    <tr>\n",
       "      <th>2</th>\n",
       "      <td>18.0</td>\n",
       "      <td>8</td>\n",
       "      <td>318.0</td>\n",
       "      <td>150</td>\n",
       "      <td>3436</td>\n",
       "      <td>11.0</td>\n",
       "      <td>70</td>\n",
       "      <td>1</td>\n",
       "      <td>plymouth satellite</td>\n",
       "    </tr>\n",
       "    <tr>\n",
       "      <th>3</th>\n",
       "      <td>16.0</td>\n",
       "      <td>8</td>\n",
       "      <td>304.0</td>\n",
       "      <td>150</td>\n",
       "      <td>3433</td>\n",
       "      <td>12.0</td>\n",
       "      <td>70</td>\n",
       "      <td>1</td>\n",
       "      <td>amc rebel sst</td>\n",
       "    </tr>\n",
       "    <tr>\n",
       "      <th>4</th>\n",
       "      <td>17.0</td>\n",
       "      <td>8</td>\n",
       "      <td>302.0</td>\n",
       "      <td>140</td>\n",
       "      <td>3449</td>\n",
       "      <td>10.5</td>\n",
       "      <td>70</td>\n",
       "      <td>1</td>\n",
       "      <td>ford torino</td>\n",
       "    </tr>\n",
       "  </tbody>\n",
       "</table>\n",
       "</div>"
      ],
      "text/plain": [
       "    mpg  cylinders  displacement horsepower  weight  acceleration  model year  \\\n",
       "0  18.0          8         307.0        130    3504          12.0          70   \n",
       "1  15.0          8         350.0        165    3693          11.5          70   \n",
       "2  18.0          8         318.0        150    3436          11.0          70   \n",
       "3  16.0          8         304.0        150    3433          12.0          70   \n",
       "4  17.0          8         302.0        140    3449          10.5          70   \n",
       "\n",
       "   origin                   car name  \n",
       "0       1  chevrolet chevelle malibu  \n",
       "1       1          buick skylark 320  \n",
       "2       1         plymouth satellite  \n",
       "3       1              amc rebel sst  \n",
       "4       1                ford torino  "
      ]
     },
     "execution_count": 10,
     "metadata": {},
     "output_type": "execute_result"
    }
   ],
   "source": [
    "# Loading the data into dataframe.\n",
    "auto_df = pd.read_csv('Data/auto-mpg.csv')\n",
    "\n",
    "# Checking if the data is loaded to dataframe.\n",
    "auto_df.head()"
   ]
  },
  {
   "cell_type": "markdown",
   "id": "a3beb9a1",
   "metadata": {},
   "source": [
    "Begin by prepping the data for modeling:\n",
    "Remove the car name column.\n",
    "The horsepower column values likely imported as a string data type. Figure out why and replace any strings with the column mean.\n",
    "Create dummy variables for the origin column."
   ]
  },
  {
   "cell_type": "code",
   "execution_count": 11,
   "id": "ecebc524",
   "metadata": {},
   "outputs": [],
   "source": [
    "# Removing the 'car name' column.\n",
    "auto_df = auto_df.drop(columns=['car name'])"
   ]
  },
  {
   "cell_type": "code",
   "execution_count": 25,
   "id": "f6dfdc6e",
   "metadata": {},
   "outputs": [
    {
     "data": {
      "text/plain": [
       "array(['130', '165', '150', '140', '198', '220', '215', '225', '190',\n",
       "       '170', '160', '95', '97', '85', '88', '46', '87', '90', '113',\n",
       "       '200', '210', '193', 104.47, '100', '105', '175', '153', '180',\n",
       "       '110', '72', '86', '70', '76', '65', '69', '60', '80', '54', '208',\n",
       "       '155', '112', '92', '145', '137', '158', '167', '94', '107', '230',\n",
       "       '49', '75', '91', '122', '67', '83', '78', '52', '61', '93', '148',\n",
       "       '129', '96', '71', '98', '115', '53', '81', '79', '120', '152',\n",
       "       '102', '108', '68', '58', '149', '89', '63', '48', '66', '139',\n",
       "       '103', '125', '133', '138', '135', '142', '77', '62', '132', '84',\n",
       "       '64', '74', '116', '82'], dtype=object)"
      ]
     },
     "execution_count": 25,
     "metadata": {},
     "output_type": "execute_result"
    }
   ],
   "source": [
    "# Checking the values of horsepower column.\n",
    "auto_df.horsepower.unique()"
   ]
  },
  {
   "cell_type": "markdown",
   "id": "613cec9f",
   "metadata": {},
   "source": [
    "Explanation: The horsepower is string datatype because of '?' value."
   ]
  },
  {
   "cell_type": "code",
   "execution_count": 24,
   "id": "2d12c102",
   "metadata": {},
   "outputs": [],
   "source": [
    "# Replacing the '?' value in horsepower column with mean value.\n",
    "auto_df.horsepower.loc[(auto_df.horsepower == '?')] = round(auto_df.loc[auto_df.horsepower != '?'].astype('float').horsepower.mean(),2)\n"
   ]
  },
  {
   "cell_type": "code",
   "execution_count": 28,
   "id": "a6817f87",
   "metadata": {},
   "outputs": [
    {
     "data": {
      "text/html": [
       "<div>\n",
       "<style scoped>\n",
       "    .dataframe tbody tr th:only-of-type {\n",
       "        vertical-align: middle;\n",
       "    }\n",
       "\n",
       "    .dataframe tbody tr th {\n",
       "        vertical-align: top;\n",
       "    }\n",
       "\n",
       "    .dataframe thead th {\n",
       "        text-align: right;\n",
       "    }\n",
       "</style>\n",
       "<table border=\"1\" class=\"dataframe\">\n",
       "  <thead>\n",
       "    <tr style=\"text-align: right;\">\n",
       "      <th></th>\n",
       "      <th>origin_1</th>\n",
       "      <th>origin_2</th>\n",
       "      <th>origin_3</th>\n",
       "    </tr>\n",
       "  </thead>\n",
       "  <tbody>\n",
       "    <tr>\n",
       "      <th>0</th>\n",
       "      <td>1</td>\n",
       "      <td>0</td>\n",
       "      <td>0</td>\n",
       "    </tr>\n",
       "    <tr>\n",
       "      <th>1</th>\n",
       "      <td>1</td>\n",
       "      <td>0</td>\n",
       "      <td>0</td>\n",
       "    </tr>\n",
       "    <tr>\n",
       "      <th>2</th>\n",
       "      <td>1</td>\n",
       "      <td>0</td>\n",
       "      <td>0</td>\n",
       "    </tr>\n",
       "    <tr>\n",
       "      <th>3</th>\n",
       "      <td>1</td>\n",
       "      <td>0</td>\n",
       "      <td>0</td>\n",
       "    </tr>\n",
       "    <tr>\n",
       "      <th>4</th>\n",
       "      <td>1</td>\n",
       "      <td>0</td>\n",
       "      <td>0</td>\n",
       "    </tr>\n",
       "    <tr>\n",
       "      <th>...</th>\n",
       "      <td>...</td>\n",
       "      <td>...</td>\n",
       "      <td>...</td>\n",
       "    </tr>\n",
       "    <tr>\n",
       "      <th>393</th>\n",
       "      <td>1</td>\n",
       "      <td>0</td>\n",
       "      <td>0</td>\n",
       "    </tr>\n",
       "    <tr>\n",
       "      <th>394</th>\n",
       "      <td>0</td>\n",
       "      <td>1</td>\n",
       "      <td>0</td>\n",
       "    </tr>\n",
       "    <tr>\n",
       "      <th>395</th>\n",
       "      <td>1</td>\n",
       "      <td>0</td>\n",
       "      <td>0</td>\n",
       "    </tr>\n",
       "    <tr>\n",
       "      <th>396</th>\n",
       "      <td>1</td>\n",
       "      <td>0</td>\n",
       "      <td>0</td>\n",
       "    </tr>\n",
       "    <tr>\n",
       "      <th>397</th>\n",
       "      <td>1</td>\n",
       "      <td>0</td>\n",
       "      <td>0</td>\n",
       "    </tr>\n",
       "  </tbody>\n",
       "</table>\n",
       "<p>398 rows × 3 columns</p>\n",
       "</div>"
      ],
      "text/plain": [
       "     origin_1  origin_2  origin_3\n",
       "0           1         0         0\n",
       "1           1         0         0\n",
       "2           1         0         0\n",
       "3           1         0         0\n",
       "4           1         0         0\n",
       "..        ...       ...       ...\n",
       "393         1         0         0\n",
       "394         0         1         0\n",
       "395         1         0         0\n",
       "396         1         0         0\n",
       "397         1         0         0\n",
       "\n",
       "[398 rows x 3 columns]"
      ]
     },
     "execution_count": 28,
     "metadata": {},
     "output_type": "execute_result"
    }
   ],
   "source": [
    "# Creating dummy variables for origin column.\n",
    "pd.get_dummies(auto_df.origin,'origin','_')"
   ]
  },
  {
   "cell_type": "markdown",
   "id": "31f8cee1",
   "metadata": {},
   "source": [
    "Create a correlation coefficient matrix and/or visualization. Are there features highly correlated with mpg?"
   ]
  },
  {
   "cell_type": "code",
   "execution_count": 36,
   "id": "fdd2258e",
   "metadata": {},
   "outputs": [
    {
     "data": {
      "text/plain": [
       "<AxesSubplot:>"
      ]
     },
     "execution_count": 36,
     "metadata": {},
     "output_type": "execute_result"
    },
    {
     "data": {
      "image/png": "[encoded data removed]",
      "text/plain": [
       "<Figure size 432x288 with 2 Axes>"
      ]
     },
     "metadata": {
      "needs_background": "light"
     },
     "output_type": "display_data"
    }
   ],
   "source": [
    "# Creating correlation matrix.\n",
    "corr_mat = auto_df.corr()\n",
    "\n",
    "# Plotting correlation matrix.\n",
    "sb.heatmap(corr_mat)"
   ]
  },
  {
   "cell_type": "markdown",
   "id": "db1fe683",
   "metadata": {},
   "source": [
    "accelaration, model year, orgin have some positive correlation with mpg."
   ]
  },
  {
   "cell_type": "markdown",
   "id": "b44444d1",
   "metadata": {},
   "source": [
    "Plot mpg versus weight. Analyze this graph and explain how it relates to the corresponding correlation coefficient."
   ]
  },
  {
   "cell_type": "code",
   "execution_count": 41,
   "id": "b26db26f",
   "metadata": {},
   "outputs": [
    {
     "data": {
      "text/plain": [
       "<seaborn.axisgrid.FacetGrid at 0x7f82a154fd90>"
      ]
     },
     "execution_count": 41,
     "metadata": {},
     "output_type": "execute_result"
    },
    {
     "data": {
      "image/png": "[encoded data removed]",
      "text/plain": [
       "<Figure size 360x360 with 1 Axes>"
      ]
     },
     "metadata": {
      "needs_background": "light"
     },
     "output_type": "display_data"
    }
   ],
   "source": [
    "# Plotting mpg vs weight.\n",
    "plot = sb.lmplot('weight','mpg',data=auto_df)\n",
    "plot.set(ylim = (0,50))"
   ]
  },
  {
   "cell_type": "markdown",
   "id": "7ba860eb",
   "metadata": {},
   "source": [
    "Scatter plot distribution shows that mpg is negatively correlated with weight. Lower the mpg higher the weight."
   ]
  },
  {
   "cell_type": "markdown",
   "id": "0f4e5f98",
   "metadata": {},
   "source": [
    "Randomly split the data into 80% training data and 20% test data, where your target is mpg."
   ]
  },
  {
   "cell_type": "code",
   "execution_count": 43,
   "id": "44c5461b",
   "metadata": {},
   "outputs": [],
   "source": [
    "from sklearn import linear_model\n",
    "from sklearn.model_selection import train_test_split\n",
    "from sklearn import metrics\n",
    "from sklearn.metrics import mean_squared_error"
   ]
  },
  {
   "cell_type": "code",
   "execution_count": 45,
   "id": "434fe9bb",
   "metadata": {},
   "outputs": [],
   "source": [
    "# Choosing the Predictor columns.\n",
    "X = auto_df[['cylinders', 'displacement', 'horsepower', 'weight', 'acceleration', 'model year', \"origin\"]]\n",
    "\n",
    "# Choosing the target column.\n",
    "y = auto_df['mpg']\n",
    "\n",
    "# Splitting data into training and testing sets.\n",
    "X_train, X_test, y_train, y_test = train_test_split(X, y, train_size=0.8, test_size=0.2)"
   ]
  },
  {
   "cell_type": "markdown",
   "id": "fbf92af5",
   "metadata": {},
   "source": [
    "Train an ordinary linear regression on the training data."
   ]
  },
  {
   "cell_type": "code",
   "execution_count": 46,
   "id": "cce9f618",
   "metadata": {},
   "outputs": [
    {
     "data": {
      "text/plain": [
       "LinearRegression()"
      ]
     },
     "execution_count": 46,
     "metadata": {},
     "output_type": "execute_result"
    }
   ],
   "source": [
    "# Training a simple linear regression model on training data.\n",
    "regr = linear_model.LinearRegression()\n",
    "regr.fit(X_train, y_train)"
   ]
  },
  {
   "cell_type": "markdown",
   "id": "8fa0b03f",
   "metadata": {},
   "source": [
    "Calculate R2, RMSE, and MAE on both the training and test sets and interpret your results."
   ]
  },
  {
   "cell_type": "code",
   "execution_count": 60,
   "id": "0bf102e0",
   "metadata": {},
   "outputs": [
    {
     "name": "stdout",
     "output_type": "stream",
     "text": [
      "Training set: \n",
      " R2: 0.8149 \n",
      " RMSE: 3.4329 \n",
      " Mean Absolute Error: 2.6230\n",
      "\n",
      "Testing set: \n",
      " R2: 0.8405 \n",
      " RMSE: 2.8229 \n",
      " Mean Absolute Error: 2.1532\n"
     ]
    }
   ],
   "source": [
    "# Calculating R2, RMSE and MAE on the training set.\n",
    "preds = regr.predict(X_train)\n",
    "\n",
    "r2 = metrics.r2_score(y_train, preds)\n",
    "rmse = np.sqrt(mean_squared_error(y_train,preds))\n",
    "mae = metrics.mean_absolute_error(y_train, preds)\n",
    "\n",
    "print(\"Training set: \\n R2: %.4f \\n RMSE: %.4f \\n Mean Absolute Error: %.4f\" % (r2,rmse,mae))\n",
    "\n",
    "# Calculating R2, RMSE and MAE on the testing set.\n",
    "preds = regr.predict(X_test)\n",
    "\n",
    "r2 = metrics.r2_score(y_test, preds)\n",
    "rmse = np.sqrt(mean_squared_error(y_test,preds))\n",
    "mae = metrics.mean_absolute_error(y_test, preds)\n",
    "\n",
    "print(\"\\nTesting set: \\n R2: %.4f \\n RMSE: %.4f \\n Mean Absolute Error: %.4f\" % (r2,rmse,mae))"
   ]
  },
  {
   "cell_type": "markdown",
   "id": "c2f4e8cb",
   "metadata": {},
   "source": [
    "For training and testing set:\n",
    "R-square is 0.8, it means 80% of the variation in the output variables. \n",
    "RMSE, MAE values are higher, which indicates that the model prediction accuracy is not very high."
   ]
  },
  {
   "cell_type": "markdown",
   "id": "deb69f36",
   "metadata": {},
   "source": [
    "Pick another regression model and repeat the previous two steps. Note: Do NOT choose logistic regression as it is more like a classification model."
   ]
  },
  {
   "cell_type": "code",
   "execution_count": 62,
   "id": "1c016765",
   "metadata": {},
   "outputs": [
    {
     "name": "stdout",
     "output_type": "stream",
     "text": [
      "Training set: \n",
      " R2: 0.9841 \n",
      " RMSE: 1.0064 \n",
      " Mean Absolute Error: 0.7062\n",
      "\n",
      "Testing set: \n",
      " R2: 0.8239 \n",
      " RMSE: 2.9663 \n",
      " Mean Absolute Error: 1.9377\n"
     ]
    }
   ],
   "source": [
    "# Importing random forest regression\n",
    "from sklearn.ensemble import RandomForestRegressor\n",
    "\n",
    "reg = RandomForestRegressor().fit(X_train, y_train)\n",
    "\n",
    "preds = reg.predict(X_train)\n",
    "# Calculating R2, RMSE and MAE on the training set.\n",
    "r2 = metrics.r2_score(y_train, preds)\n",
    "rmse = np.sqrt(mean_squared_error(y_train,preds))\n",
    "mae = metrics.mean_absolute_error(y_train, preds)\n",
    "print(\"Training set: \\n R2: %.4f \\n RMSE: %.4f \\n Mean Absolute Error: %.4f\" % (r2,rmse,mae))\n",
    "\n",
    "preds = reg.predict(X_test)\n",
    "# Calculating R2, RMSE and MAE on the testing set.\n",
    "r2 = metrics.r2_score(y_test, preds)\n",
    "rmse = np.sqrt(mean_squared_error(y_test,preds))\n",
    "mae = metrics.mean_absolute_error(y_test, preds)\n",
    "\n",
    "print(\"\\nTesting set: \\n R2: %.4f \\n RMSE: %.4f \\n Mean Absolute Error: %.4f\" % (r2,rmse,mae))"
   ]
  },
  {
   "cell_type": "markdown",
   "id": "b8c1a9c7",
   "metadata": {},
   "source": [
    "Using random forest regression: \n",
    "For training, R-square is 0.9, it means 90% of the variation in the output variables. \n",
    "For testing, R-square is 0.8, it means 80% of the variation in the output variables. \n",
    "\n",
    "RMSE, MAE are lower in comparision to Linear regression for Training data, but the testing data are worse than train data."
   ]
  }
 ],
 "metadata": {
  "kernelspec": {
   "display_name": "Python 3",
   "language": "python",
   "name": "python3"
  },
  "language_info": {
   "codemirror_mode": {
    "name": "ipython",
    "version": 3
   },
   "file_extension": ".py",
   "mimetype": "text/x-python",
   "name": "python",
   "nbconvert_exporter": "python",
   "pygments_lexer": "ipython3",
   "version": "3.8.8"
  }
 },
 "nbformat": 4,
 "nbformat_minor": 5
}
