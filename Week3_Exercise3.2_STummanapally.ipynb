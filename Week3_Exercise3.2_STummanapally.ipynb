{
 "cells": [
  {
   "cell_type": "code",
   "execution_count": 172,
   "id": "3b117324",
   "metadata": {},
   "outputs": [],
   "source": [
    "import pandas as pd\n",
    "from textblob import TextBlob\n",
    "from textblob.classifiers import NaiveBayesClassifier"
   ]
  },
  {
   "cell_type": "markdown",
   "id": "38a71083",
   "metadata": {},
   "source": [
    "## Part 1: Using the TextBlob Sentiment Analyzer"
   ]
  },
  {
   "cell_type": "markdown",
   "id": "34b50562",
   "metadata": {},
   "source": [
    "### Import the movie review data as a data frame and ensure that the data is loaded properly."
   ]
  },
  {
   "cell_type": "code",
   "execution_count": 176,
   "id": "560ad23c",
   "metadata": {},
   "outputs": [
    {
     "data": {
      "text/html": [
       "<div>\n",
       "<style scoped>\n",
       "    .dataframe tbody tr th:only-of-type {\n",
       "        vertical-align: middle;\n",
       "    }\n",
       "\n",
       "    .dataframe tbody tr th {\n",
       "        vertical-align: top;\n",
       "    }\n",
       "\n",
       "    .dataframe thead th {\n",
       "        text-align: right;\n",
       "    }\n",
       "</style>\n",
       "<table border=\"1\" class=\"dataframe\">\n",
       "  <thead>\n",
       "    <tr style=\"text-align: right;\">\n",
       "      <th></th>\n",
       "      <th>id</th>\n",
       "      <th>sentiment</th>\n",
       "      <th>review</th>\n",
       "    </tr>\n",
       "  </thead>\n",
       "  <tbody>\n",
       "    <tr>\n",
       "      <th>0</th>\n",
       "      <td>5814_8</td>\n",
       "      <td>1</td>\n",
       "      <td>With all this stuff going down at the moment w...</td>\n",
       "    </tr>\n",
       "    <tr>\n",
       "      <th>1</th>\n",
       "      <td>2381_9</td>\n",
       "      <td>1</td>\n",
       "      <td>\\The Classic War of the Worlds\\\" by Timothy Hi...</td>\n",
       "    </tr>\n",
       "    <tr>\n",
       "      <th>2</th>\n",
       "      <td>7759_3</td>\n",
       "      <td>0</td>\n",
       "      <td>The film starts with a manager (Nicholas Bell)...</td>\n",
       "    </tr>\n",
       "    <tr>\n",
       "      <th>3</th>\n",
       "      <td>3630_4</td>\n",
       "      <td>0</td>\n",
       "      <td>It must be assumed that those who praised this...</td>\n",
       "    </tr>\n",
       "    <tr>\n",
       "      <th>4</th>\n",
       "      <td>9495_8</td>\n",
       "      <td>1</td>\n",
       "      <td>Superbly trashy and wondrously unpretentious 8...</td>\n",
       "    </tr>\n",
       "  </tbody>\n",
       "</table>\n",
       "</div>"
      ],
      "text/plain": [
       "       id  sentiment                                             review\n",
       "0  5814_8          1  With all this stuff going down at the moment w...\n",
       "1  2381_9          1  \\The Classic War of the Worlds\\\" by Timothy Hi...\n",
       "2  7759_3          0  The film starts with a manager (Nicholas Bell)...\n",
       "3  3630_4          0  It must be assumed that those who praised this...\n",
       "4  9495_8          1  Superbly trashy and wondrously unpretentious 8..."
      ]
     },
     "execution_count": 176,
     "metadata": {},
     "output_type": "execute_result"
    }
   ],
   "source": [
    "movrev_df = pd.read_csv(\"Data/labeledTrainData.tsv\", sep='\\t')\n",
    "movrev_df.head()"
   ]
  },
  {
   "cell_type": "markdown",
   "id": "213e1f23",
   "metadata": {},
   "source": [
    "### How many of each positive and negative reviews are there?"
   ]
  },
  {
   "cell_type": "code",
   "execution_count": 177,
   "id": "817925c5",
   "metadata": {},
   "outputs": [
    {
     "name": "stdout",
     "output_type": "stream",
     "text": [
      "No. of Positive Reviews are: 12500\n",
      "No. of Negative Reviews are: 12500\n"
     ]
    }
   ],
   "source": [
    "PosRevs = sum(movrev_df['sentiment'] == 1)  # Counting the number of Positive Reviews\n",
    "NegRevs = sum(movrev_df['sentiment'] == 0)  # Counting the number of Negative Reviews\n",
    "\n",
    "# Printing the Number of positive and negative reviews\n",
    "print(\"No. of Positive Reviews are:\", PosRevs)      \n",
    "print(\"No. of Negative Reviews are:\", NegRevs)"
   ]
  },
  {
   "cell_type": "markdown",
   "id": "d8d1c28a",
   "metadata": {},
   "source": [
    "### Use TextBlob to classify each movie review as positive or negative. Assume that a polarity score greater than or equal to zero is a positive sentiment and less than 0 is a negative sentiment."
   ]
  },
  {
   "cell_type": "code",
   "execution_count": 178,
   "id": "8cb66a8d",
   "metadata": {},
   "outputs": [
    {
     "name": "stdout",
     "output_type": "stream",
     "text": [
      "No. of positive reviews using TextBlob Analysis is 19017\n",
      "No. of Negative reviews using TextBlob Analysis is 5983\n"
     ]
    }
   ],
   "source": [
    "movrev_df['TB_SentAnalysis'] = movrev_df['review'].apply(lambda review: TextBlob(review).sentiment.polarity)    # Adding a column for TextBlob Sentiment analysis\n",
    "\n",
    "print(\"No. of positive reviews using TextBlob Analysis is\", sum(movrev_df['TB_SentAnalysis'] >= 0))             # Sums of positive and negative reviews.\n",
    "print(\"No. of Negative reviews using TextBlob Analysis is\", sum(movrev_df['TB_SentAnalysis'] < 0))"
   ]
  },
  {
   "cell_type": "markdown",
   "id": "4302bcbe",
   "metadata": {},
   "source": [
    "### Check the accuracy of this model. Is this model better than random guessing?"
   ]
  },
  {
   "cell_type": "code",
   "execution_count": 179,
   "id": "c6f447bf",
   "metadata": {
    "scrolled": true
   },
   "outputs": [
    {
     "name": "stdout",
     "output_type": "stream",
     "text": [
      "Accurate positive sentiment prediction by TextBlob: 11824\n",
      "Accurate negative sentiment prediction by TextBlob: 5307\n"
     ]
    }
   ],
   "source": [
    "print(\"Accurate positive sentiment prediction by TextBlob:\", sum((movrev_df['sentiment'] > 0) & (movrev_df['TB_SentAnalysis'] >= 0)))        # Calculating Accurate positive and negative sentiment predictions\n",
    "print(\"Accurate negative sentiment prediction by TextBlob:\", sum((movrev_df['sentiment'] <= 0) & (movrev_df['TB_SentAnalysis'] < 0)))"
   ]
  },
  {
   "cell_type": "markdown",
   "id": "a7c33d83",
   "metadata": {},
   "source": [
    "Total number of sentiment predictions using TextBlob: 11824+5307 = 17131\n",
    "\n",
    "Total number of reviews: 25000\n",
    "\n",
    "Accuracy of this model = (17131/25000)*100 = 68.524%\n",
    "\n",
    "Accuracy of this model is about 68.5%. This is definitely better than random guessing which has only 50% accuracy."
   ]
  },
  {
   "cell_type": "markdown",
   "id": "67087cac",
   "metadata": {},
   "source": [
    "### For up to five points extra credit, use another prebuilt text sentiment analyzer, e.g., VADER, and repeat steps (3) and (4)."
   ]
  },
  {
   "cell_type": "code",
   "execution_count": 180,
   "id": "738db938",
   "metadata": {},
   "outputs": [
    {
     "name": "stdout",
     "output_type": "stream",
     "text": [
      "No. of positive reviews using VADER is: 16611\n",
      "No. of negative reviews using VADER is: 8389\n",
      "\n",
      "Accurate positive sentiment prediction by VADER : 10731\n",
      "Accurate negative sentiment prediction by VADER : 6620\n"
     ]
    }
   ],
   "source": [
    "from vaderSentiment.vaderSentiment import SentimentIntensityAnalyzer\n",
    "\n",
    "analyzer = SentimentIntensityAnalyzer()\n",
    "movrev_df['V_SentAnalysis'] = movrev_df['review'].apply(lambda review: analyzer.polarity_scores(review).get('compound'))     # Adding a column for Vader sentiment analysis\n",
    "\n",
    "print(\"No. of positive reviews using VADER is:\", sum(movrev_df['V_SentAnalysis'] >= 0))  # Sums of positive and negative reviews using Vader\n",
    "print(\"No. of negative reviews using VADER is:\", sum(movrev_df['V_SentAnalysis'] < 0))\n",
    "\n",
    "print(\"\\nAccurate positive sentiment prediction by VADER :\", sum((movrev_df['sentiment'] > 0) & (movrev_df['V_SentAnalysis'] >= 0)))       # Calculating the accuracy\n",
    "print(\"Accurate negative sentiment prediction by VADER :\", sum((movrev_df['sentiment'] <= 0) & (movrev_df['V_SentAnalysis'] < 0)))"
   ]
  },
  {
   "cell_type": "markdown",
   "id": "1a50709e",
   "metadata": {},
   "source": [
    "Total number of sentiment predictions using VADER: 10731+6620 = 17351\n",
    "\n",
    "Total number of reviews: 25000\n",
    "\n",
    "Accuracy of this model = (17351/25000)*100 = 69.404%\n",
    "\n",
    "Accuracy of VADER model is about 69.4%. This is definitely better than random guessing which has only 50% accuracy."
   ]
  },
  {
   "cell_type": "markdown",
   "id": "1255b79b",
   "metadata": {},
   "source": [
    "## Part 2: Prepping Text for a Custom Model"
   ]
  },
  {
   "cell_type": "markdown",
   "id": "b3ffcb8e",
   "metadata": {},
   "source": [
    "### Convert all text to lowercase letters."
   ]
  },
  {
   "cell_type": "code",
   "execution_count": 198,
   "id": "7ed46576",
   "metadata": {},
   "outputs": [],
   "source": [
    "movrev_df.review = movrev_df.review.str.lower()           # Converting review column text to lowercase."
   ]
  },
  {
   "cell_type": "markdown",
   "id": "b2916a36",
   "metadata": {},
   "source": [
    "### Remove punctuation and special characters from the text."
   ]
  },
  {
   "cell_type": "code",
   "execution_count": 199,
   "id": "0eda2b25",
   "metadata": {},
   "outputs": [],
   "source": [
    "import string \n",
    "  \n",
    "movrev_df.review = movrev_df.review.str.translate(str.maketrans('', '', string.punctuation))"
   ]
  },
  {
   "cell_type": "markdown",
   "id": "2cf14481",
   "metadata": {},
   "source": [
    "### Remove stop words."
   ]
  },
  {
   "cell_type": "code",
   "execution_count": 200,
   "id": "abf02c08",
   "metadata": {},
   "outputs": [],
   "source": [
    "from nltk.corpus import stopwords\n",
    "\n",
    "stop_words = stopwords.words('english')\n",
    "\n",
    "movrev_df.review = movrev_df.review.apply(lambda x: ' '.join([word for word in x.split() if word not in (stop_words)]))          # Removing the stop word"
   ]
  },
  {
   "cell_type": "markdown",
   "id": "63124da7",
   "metadata": {},
   "source": [
    "### Apply NLTK’s PorterStemmer."
   ]
  },
  {
   "cell_type": "code",
   "execution_count": 201,
   "id": "f33097a2",
   "metadata": {},
   "outputs": [],
   "source": [
    "from nltk.stem.porter import PorterStemmer\n",
    "\n",
    "porter = PorterStemmer()            # Creating the stemmer\n",
    "\n",
    "movrev_df.review = movrev_df.review.apply(lambda x: ' '.join([porter.stem(word) for word in x.split()]))         #Applying the stemmer"
   ]
  },
  {
   "cell_type": "markdown",
   "id": "dc2ee034",
   "metadata": {},
   "source": [
    "### Create a bag-of-words matrix from your stemmed text (output from (4)), where each row is a word-count vector for a single movie review (see sections 5.3 & 6.8 in the Machine Learning with Python Cookbook). Display the dimensions of your bag-of-words matrix. The number of rows in this matrix should be the same as the number of rows in your original data frame."
   ]
  },
  {
   "cell_type": "code",
   "execution_count": 202,
   "id": "9abffe23",
   "metadata": {},
   "outputs": [
    {
     "data": {
      "text/plain": [
       "<25000x91437 sparse matrix of type '<class 'numpy.int64'>'\n",
       "\twith 2398626 stored elements in Compressed Sparse Row format>"
      ]
     },
     "execution_count": 202,
     "metadata": {},
     "output_type": "execute_result"
    }
   ],
   "source": [
    "from sklearn.feature_extraction.text import CountVectorizer\n",
    "\n",
    "count = CountVectorizer()\n",
    "bag_of_words = count.fit_transform(movrev_df.review)\n",
    "\n",
    "bag_of_words                           #Size of bag_of_words"
   ]
  },
  {
   "cell_type": "markdown",
   "id": "15c9f572",
   "metadata": {},
   "source": [
    "### Create a term frequency-inverse document frequency (tf-idf) matrix from your stemmed text, for your movie reviews (see section 6.9 in the Machine Learning with Python Cookbook). Display the dimensions of your tf-idf matrix. These dimensions should be the same as your bag-of-words matrix."
   ]
  },
  {
   "cell_type": "code",
   "execution_count": 203,
   "id": "40b1aaff",
   "metadata": {},
   "outputs": [
    {
     "name": "stdout",
     "output_type": "stream",
     "text": [
      "(25000, 91437)\n"
     ]
    }
   ],
   "source": [
    "from sklearn.feature_extraction.text import TfidfVectorizer\n",
    "\n",
    "vectorizer = TfidfVectorizer()\n",
    "tfidf_review = vectorizer.fit_transform(movrev_df.review)    # Create the tf-idf matrix\n",
    "\n",
    "print(tfidf_review.shape)             #Dimensions od tf-idf matrix"
   ]
  },
  {
   "cell_type": "markdown",
   "id": "b63085af",
   "metadata": {},
   "source": [
    "The dimensions of my tf-idf matrix are same as the dimensions of bag-of-words matrix."
   ]
  }
 ],
 "metadata": {
  "kernelspec": {
   "display_name": "Python 3",
   "language": "python",
   "name": "python3"
  },
  "language_info": {
   "codemirror_mode": {
    "name": "ipython",
    "version": 3
   },
   "file_extension": ".py",
   "mimetype": "text/x-python",
   "name": "python",
   "nbconvert_exporter": "python",
   "pygments_lexer": "ipython3",
   "version": "3.8.8"
  }
 },
 "nbformat": 4,
 "nbformat_minor": 5
}
