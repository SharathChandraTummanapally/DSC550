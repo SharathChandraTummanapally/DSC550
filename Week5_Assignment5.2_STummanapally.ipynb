{
 "cells": [
  {
   "cell_type": "markdown",
   "id": "834b8836",
   "metadata": {},
   "source": [
    "## Get the stemmed data using the same process you did in Week 3."
   ]
  },
  {
   "cell_type": "code",
   "execution_count": 137,
   "id": "9cd8847e",
   "metadata": {},
   "outputs": [],
   "source": [
    "import pandas as pd "
   ]
  },
  {
   "cell_type": "code",
   "execution_count": 138,
   "id": "8999e2d8",
   "metadata": {},
   "outputs": [
    {
     "data": {
      "text/html": [
       "<div>\n",
       "<style scoped>\n",
       "    .dataframe tbody tr th:only-of-type {\n",
       "        vertical-align: middle;\n",
       "    }\n",
       "\n",
       "    .dataframe tbody tr th {\n",
       "        vertical-align: top;\n",
       "    }\n",
       "\n",
       "    .dataframe thead th {\n",
       "        text-align: right;\n",
       "    }\n",
       "</style>\n",
       "<table border=\"1\" class=\"dataframe\">\n",
       "  <thead>\n",
       "    <tr style=\"text-align: right;\">\n",
       "      <th></th>\n",
       "      <th>id</th>\n",
       "      <th>sentiment</th>\n",
       "      <th>review</th>\n",
       "    </tr>\n",
       "  </thead>\n",
       "  <tbody>\n",
       "    <tr>\n",
       "      <th>0</th>\n",
       "      <td>5814_8</td>\n",
       "      <td>1</td>\n",
       "      <td>With all this stuff going down at the moment w...</td>\n",
       "    </tr>\n",
       "    <tr>\n",
       "      <th>1</th>\n",
       "      <td>2381_9</td>\n",
       "      <td>1</td>\n",
       "      <td>\\The Classic War of the Worlds\\\" by Timothy Hi...</td>\n",
       "    </tr>\n",
       "    <tr>\n",
       "      <th>2</th>\n",
       "      <td>7759_3</td>\n",
       "      <td>0</td>\n",
       "      <td>The film starts with a manager (Nicholas Bell)...</td>\n",
       "    </tr>\n",
       "    <tr>\n",
       "      <th>3</th>\n",
       "      <td>3630_4</td>\n",
       "      <td>0</td>\n",
       "      <td>It must be assumed that those who praised this...</td>\n",
       "    </tr>\n",
       "    <tr>\n",
       "      <th>4</th>\n",
       "      <td>9495_8</td>\n",
       "      <td>1</td>\n",
       "      <td>Superbly trashy and wondrously unpretentious 8...</td>\n",
       "    </tr>\n",
       "  </tbody>\n",
       "</table>\n",
       "</div>"
      ],
      "text/plain": [
       "       id  sentiment                                             review\n",
       "0  5814_8          1  With all this stuff going down at the moment w...\n",
       "1  2381_9          1  \\The Classic War of the Worlds\\\" by Timothy Hi...\n",
       "2  7759_3          0  The film starts with a manager (Nicholas Bell)...\n",
       "3  3630_4          0  It must be assumed that those who praised this...\n",
       "4  9495_8          1  Superbly trashy and wondrously unpretentious 8..."
      ]
     },
     "execution_count": 138,
     "metadata": {},
     "output_type": "execute_result"
    }
   ],
   "source": [
    "movrev_df = pd.read_csv(\"Data/labeledTrainData.tsv\", sep='\\t')\n",
    "movrev_df.head()"
   ]
  },
  {
   "cell_type": "code",
   "execution_count": 139,
   "id": "30b1fc96",
   "metadata": {},
   "outputs": [],
   "source": [
    "# Part 2:\n",
    "\n",
    "movrev_df.review = movrev_df.review.str.lower()           # Converting review column text to lowercase.      "
   ]
  },
  {
   "cell_type": "code",
   "execution_count": 140,
   "id": "737b5bb6",
   "metadata": {},
   "outputs": [],
   "source": [
    "import string                                            # Removing punctuation and special characters from the text.\n",
    "  \n",
    "movrev_df.review = movrev_df.review.str.translate(str.maketrans('', '', string.punctuation))"
   ]
  },
  {
   "cell_type": "code",
   "execution_count": 141,
   "id": "8ef8886d",
   "metadata": {},
   "outputs": [],
   "source": [
    "from nltk.corpus import stopwords                    # Removing the stop words.\n",
    "\n",
    "stop_words = stopwords.words('english')\n",
    "\n",
    "movrev_df.review = movrev_df.review.apply(lambda x: ' '.join([word for word in x.split() if word not in (stop_words)]))          "
   ]
  },
  {
   "cell_type": "code",
   "execution_count": 142,
   "id": "c4f45728",
   "metadata": {},
   "outputs": [],
   "source": [
    "from nltk.stem.porter import PorterStemmer       # Applying NLTK’s PorterStemmer.\n",
    "\n",
    "porter = PorterStemmer()                         # Creating the stemmer.         \n",
    "\n",
    "movrev_df.review = movrev_df.review.apply(lambda x: ' '.join([porter.stem(word) for word in x.split()]))      # Applying the stemmer.   "
   ]
  },
  {
   "cell_type": "markdown",
   "id": "347b5f20",
   "metadata": {},
   "source": [
    "## Split this into a training and test set."
   ]
  },
  {
   "cell_type": "code",
   "execution_count": 143,
   "id": "4002e56c",
   "metadata": {},
   "outputs": [],
   "source": [
    "from sklearn import linear_model\n",
    "from sklearn.model_selection import train_test_split\n",
    "from sklearn import metrics\n",
    "from sklearn.metrics import mean_squared_error"
   ]
  },
  {
   "cell_type": "code",
   "execution_count": 144,
   "id": "2335ac5d",
   "metadata": {},
   "outputs": [],
   "source": [
    "X = movrev_df['review']                 # Choosing the Predictor column.\n",
    "\n",
    "y = movrev_df['sentiment']              # Choosing the target column.\n",
    "\n",
    "X_train, X_test, y_train, y_test = train_test_split(X, y, train_size=0.8, test_size=0.2)  # Splitting data into training and testing sets."
   ]
  },
  {
   "cell_type": "markdown",
   "id": "858c6026",
   "metadata": {},
   "source": [
    "## Fit and apply the tf-idf vectorization to the training set."
   ]
  },
  {
   "cell_type": "code",
   "execution_count": 145,
   "id": "14fc652f",
   "metadata": {},
   "outputs": [
    {
     "data": {
      "text/plain": [
       "(20000, 81457)"
      ]
     },
     "execution_count": 145,
     "metadata": {},
     "output_type": "execute_result"
    }
   ],
   "source": [
    "from sklearn.feature_extraction.text import TfidfVectorizer\n",
    "\n",
    "tfidfs = TfidfVectorizer()            # Creating the tf-idf vectorization.\n",
    "\n",
    "X_train_matrix = tfidfs.fit_transform(X_train)   # Applying the tf-idf vectorization to the training set.\n",
    "\n",
    "X_train_matrix.shape                # Checking the shape to validate."
   ]
  },
  {
   "cell_type": "markdown",
   "id": "53645486",
   "metadata": {},
   "source": [
    "## Apply but DO NOT FIT the tf-idf vectorization to the test set (Why?)."
   ]
  },
  {
   "cell_type": "code",
   "execution_count": 146,
   "id": "99770c86",
   "metadata": {},
   "outputs": [
    {
     "data": {
      "text/plain": [
       "(5000, 81457)"
      ]
     },
     "execution_count": 146,
     "metadata": {},
     "output_type": "execute_result"
    }
   ],
   "source": [
    "X_test_matrix = tfidfs.transform(X_test)      # Applying the tf-idf vectorization to the testing set.\n",
    "\n",
    "X_test_matrix.shape            # Checking the shape to validate."
   ]
  },
  {
   "cell_type": "markdown",
   "id": "d05f8160",
   "metadata": {},
   "source": [
    "Why? - Its because if we fit the tf-idf vectorization to the test set, training our model might introduce some data leakage and hence yield in too optimistic performance measures. "
   ]
  },
  {
   "cell_type": "markdown",
   "id": "b5f6a27d",
   "metadata": {},
   "source": [
    "## Train a logistic regression using the training data."
   ]
  },
  {
   "cell_type": "code",
   "execution_count": 147,
   "id": "c112e7d2",
   "metadata": {},
   "outputs": [],
   "source": [
    "from sklearn.linear_model import LogisticRegression\n",
    "\n",
    "logistic_regression = LogisticRegression(random_state=0)     # Creating logistic regression object.\n",
    "\n",
    "y_test_pred = logistic_regression.fit(X_train_matrix, y_train).predict(X_test_matrix)   # Training model and make predictions."
   ]
  },
  {
   "cell_type": "markdown",
   "id": "7f781e2d",
   "metadata": {},
   "source": [
    "## Find the model accuracy on test set."
   ]
  },
  {
   "cell_type": "code",
   "execution_count": 148,
   "id": "445b695c",
   "metadata": {},
   "outputs": [
    {
     "data": {
      "text/plain": [
       "0.8882"
      ]
     },
     "execution_count": 148,
     "metadata": {},
     "output_type": "execute_result"
    }
   ],
   "source": [
    "from sklearn.metrics import accuracy_score\n",
    "\n",
    "accuracy_score(y_test, y_test_pred)       # Calculating accuracy"
   ]
  },
  {
   "cell_type": "markdown",
   "id": "4166815e",
   "metadata": {},
   "source": [
    "The accuracy is 88.9%"
   ]
  },
  {
   "cell_type": "markdown",
   "id": "e28c3818",
   "metadata": {},
   "source": [
    "## Create a confusion matrix for the test set predictions."
   ]
  },
  {
   "cell_type": "code",
   "execution_count": 149,
   "id": "e7d926d7",
   "metadata": {},
   "outputs": [
    {
     "data": {
      "image/png": "[encoded data removed]",
      "text/plain": [
       "<Figure size 432x288 with 1 Axes>"
      ]
     },
     "metadata": {
      "needs_background": "light"
     },
     "output_type": "display_data"
    }
   ],
   "source": [
    "from sklearn.metrics import confusion_matrix\n",
    "import seaborn as sb\n",
    "import matplotlib.pyplot as plt\n",
    "\n",
    "matrix = confusion_matrix(y_test, y_test_pred)       # Creating the confusion matrix\n",
    "\n",
    "df = pd.DataFrame(matrix)\n",
    "\n",
    "sb.heatmap(df, annot=True, cbar=None)               # Creating the Heatmap\n",
    "plt.title(\"Confusion Matrix\"), plt.tight_layout()\n",
    "plt.ylabel(\"True Class\"), plt.xlabel(\"Predicted Class\")\n",
    "plt.show()"
   ]
  },
  {
   "cell_type": "markdown",
   "id": "3c5398cf",
   "metadata": {},
   "source": [
    "## Get the precision, recall, and F1-score for the test set predictions."
   ]
  },
  {
   "cell_type": "code",
   "execution_count": 150,
   "id": "d649f6e6",
   "metadata": {},
   "outputs": [
    {
     "name": "stdout",
     "output_type": "stream",
     "text": [
      "Precision: 88%\n",
      "Recall: 90%\n",
      "F1-score: 89%\n"
     ]
    }
   ],
   "source": [
    "from sklearn.metrics import precision_score, recall_score, f1_score\n",
    "\n",
    "precision = \"{:.0%}\".format(precision_score(y_test, y_test_pred))    # Calculating the precision\n",
    "recall = \"{:.0%}\".format(recall_score(y_test, y_test_pred))      # Calculating the recall\n",
    "f1_score = \"{:.0%}\".format(f1_score(y_test, y_test_pred))         # Calculating the F1-score\n",
    "\n",
    "print(\"Precision:\",precision)\n",
    "print(\"Recall:\",recall)\n",
    "print(\"F1-score:\",f1_score)"
   ]
  },
  {
   "cell_type": "markdown",
   "id": "5ac73a9f",
   "metadata": {},
   "source": [
    "## Create a ROC curve for the test set."
   ]
  },
  {
   "cell_type": "code",
   "execution_count": 151,
   "id": "13d422fc",
   "metadata": {},
   "outputs": [
    {
     "data": {
      "image/png": "[encoded data removed]",
      "text/plain": [
       "<Figure size 432x288 with 1 Axes>"
      ]
     },
     "metadata": {
      "needs_background": "light"
     },
     "output_type": "display_data"
    }
   ],
   "source": [
    "from sklearn.metrics import roc_curve, roc_auc_score\n",
    "\n",
    "target_prob = logistic_regression.predict_proba(X_test_matrix)[:,1]  # Getting the predicted probabilities\n",
    "\n",
    "false_pos_rate, true_pos_rate, threshold = roc_curve(y_test, target_prob)   # Creating the true and false positive rates\n",
    "\n",
    "plt.title(\"ROC\")              # Plotting the ROC curve\n",
    "plt.plot(false_pos_rate, true_pos_rate)\n",
    "plt.plot([0, 1], ls=\"--\")\n",
    "plt.plot([0, 0], [1, 0], c=\".6\"), plt.plot([1, 1] , c=\".6\")\n",
    "plt.ylabel(\"True Positive Rate\")\n",
    "plt.xlabel(\"False Positive Rate\")\n",
    "plt.show()\n"
   ]
  },
  {
   "cell_type": "markdown",
   "id": "c781117f",
   "metadata": {},
   "source": [
    "## Pick another classification model you learned about this week and repeat steps (5) – (9)."
   ]
  },
  {
   "cell_type": "markdown",
   "id": "1c6f01f2",
   "metadata": {},
   "source": [
    "### Train a random forest using the training data"
   ]
  },
  {
   "cell_type": "code",
   "execution_count": 152,
   "id": "d0dd0bb0",
   "metadata": {},
   "outputs": [],
   "source": [
    "from sklearn.ensemble import RandomForestClassifier  \n",
    "\n",
    "randomforest = RandomForestClassifier(random_state=0, n_jobs=-1)    # Creating random forest classifier object\n",
    "\n",
    "rf_model_pred = randomforest.fit(X_train_matrix, y_train).predict(X_test_matrix)  # Training the model and predicting\n"
   ]
  },
  {
   "cell_type": "markdown",
   "id": "c188f170",
   "metadata": {},
   "source": [
    "### Find the model accuracy on test set."
   ]
  },
  {
   "cell_type": "code",
   "execution_count": 153,
   "id": "ee7dfe14",
   "metadata": {},
   "outputs": [
    {
     "data": {
      "text/plain": [
       "0.8488"
      ]
     },
     "execution_count": 153,
     "metadata": {},
     "output_type": "execute_result"
    }
   ],
   "source": [
    "accuracy_score(y_test, rf_model_pred)        # Calculating the accuracy"
   ]
  },
  {
   "cell_type": "markdown",
   "id": "0ab683d5",
   "metadata": {},
   "source": [
    "The accuracy is 84.8%"
   ]
  },
  {
   "cell_type": "markdown",
   "id": "6c267bf7",
   "metadata": {},
   "source": [
    "### Create a confusion matrix for the test set predictions."
   ]
  },
  {
   "cell_type": "code",
   "execution_count": 154,
   "id": "e2858bd6",
   "metadata": {},
   "outputs": [
    {
     "data": {
      "image/png": "[encoded data removed]",
      "text/plain": [
       "<Figure size 432x288 with 1 Axes>"
      ]
     },
     "metadata": {
      "needs_background": "light"
     },
     "output_type": "display_data"
    }
   ],
   "source": [
    "matrix_rf = confusion_matrix(y_test, rf_model_pred)       # Creating confusion matrix\n",
    "\n",
    "df_rf = pd.DataFrame(matrix_rf)              \n",
    "\n",
    "sb.heatmap(df_rf, annot=True, cbar=None)      # Creating the heatmap\n",
    "plt.title(\"Confusion Matrix\"), plt.tight_layout()\n",
    "plt.ylabel(\"True Class\"), plt.xlabel(\"Predicted Class\")\n",
    "plt.show()"
   ]
  },
  {
   "cell_type": "markdown",
   "id": "40da081d",
   "metadata": {},
   "source": [
    "### Get the precision, recall, and F1-score for the test set predictions."
   ]
  },
  {
   "cell_type": "code",
   "execution_count": 155,
   "id": "3326613c",
   "metadata": {},
   "outputs": [
    {
     "name": "stdout",
     "output_type": "stream",
     "text": [
      "Precision: 86%\n",
      "Recall: 84%\n",
      "F1-score: 85%\n"
     ]
    }
   ],
   "source": [
    "from sklearn.metrics import precision_score, recall_score, f1_score\n",
    "\n",
    "Precision_rf = \"{:.0%}\".format(precision_score(y_test, rf_model_pred))     # Calculating the precision\n",
    "Recall_rf = \"{:.0%}\".format(recall_score(y_test, rf_model_pred))       # Calculating the recall\n",
    "f1_score_rf = \"{:.0%}\".format(f1_score(y_test, rf_model_pred))         # Calculating the F1-score\n",
    "\n",
    "print(\"Precision:\",Precision_rf)\n",
    "print(\"Recall:\",Recall_rf)\n",
    "print(\"F1-score:\",f1_score_rf)"
   ]
  },
  {
   "cell_type": "markdown",
   "id": "7939c7b8",
   "metadata": {},
   "source": [
    "### Create a ROC curve for the test set."
   ]
  },
  {
   "cell_type": "code",
   "execution_count": 156,
   "id": "7fa3eb6d",
   "metadata": {},
   "outputs": [
    {
     "data": {
      "image/png": "[encoded data removed]",
      "text/plain": [
       "<Figure size 432x288 with 1 Axes>"
      ]
     },
     "metadata": {
      "needs_background": "light"
     },
     "output_type": "display_data"
    }
   ],
   "source": [
    "target_prob_rf = randomforest.predict_proba(X_test_matrix)[:,1]     # Getting predicted probabilities\n",
    "false_pos_rate_rf, true_pos_rate_rf, threshold_rf = roc_curve(y_test, target_prob)  # Creating the true and false positive rates\n",
    "\n",
    "plt.title(\"ROC Curve\")       # Plotting the ROC curve\n",
    "plt.plot(false_pos_rate_rf, true_pos_rate_rf)\n",
    "plt.plot([0, 1], ls=\"--\")\n",
    "plt.plot([0, 0], [1, 0], c=\".6\"), plt.plot([1, 1] , c=\".6\")\n",
    "plt.ylabel(\"True Positive Rate\")\n",
    "plt.xlabel(\"False Positive Rate\")\n",
    "plt.show()"
   ]
  },
  {
   "cell_type": "code",
   "execution_count": null,
   "id": "8312fdf6",
   "metadata": {},
   "outputs": [],
   "source": []
  }
 ],
 "metadata": {
  "kernelspec": {
   "display_name": "Python 3",
   "language": "python",
   "name": "python3"
  },
  "language_info": {
   "codemirror_mode": {
    "name": "ipython",
    "version": 3
   },
   "file_extension": ".py",
   "mimetype": "text/x-python",
   "name": "python",
   "nbconvert_exporter": "python",
   "pygments_lexer": "ipython3",
   "version": "3.8.8"
  }
 },
 "nbformat": 4,
 "nbformat_minor": 5
}
